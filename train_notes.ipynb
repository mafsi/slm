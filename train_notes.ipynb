{
  "nbformat": 4,
  "nbformat_minor": 0,
  "metadata": {
    "colab": {
      "provenance": [],
      "authorship_tag": "ABX9TyPEtSjGPtbalcOnBCuOec2Q",
      "include_colab_link": true
    },
    "kernelspec": {
      "name": "python3",
      "display_name": "Python 3"
    },
    "language_info": {
      "name": "python"
    },
    "accelerator": "GPU",
    "gpuClass": "standard"
  },
  "cells": [
    {
      "cell_type": "markdown",
      "metadata": {
        "id": "view-in-github",
        "colab_type": "text"
      },
      "source": [
        "<a href=\"https://colab.research.google.com/github/mafsi/slm/blob/master/train_notes.ipynb\" target=\"_parent\"><img src=\"https://colab.research.google.com/assets/colab-badge.svg\" alt=\"Open In Colab\"/></a>"
      ]
    },
    {
      "cell_type": "markdown",
      "source": [
        "\n",
        "Cleaning initial folders\n",
        "---\n",
        "\n"
      ],
      "metadata": {
        "id": "NXAld-2LADXp"
      }
    },
    {
      "cell_type": "code",
      "execution_count": 1,
      "metadata": {
        "id": "wH9_CxvaK7Fu"
      },
      "outputs": [],
      "source": [
        "!rm -r /content/sample_data\n"
      ]
    },
    {
      "cell_type": "markdown",
      "source": [
        "Add data folder"
      ],
      "metadata": {
        "id": "R6wQVLN0_-XL"
      }
    },
    {
      "cell_type": "code",
      "source": [
        "! mkdir -p /content/data/"
      ],
      "metadata": {
        "id": "ZhLhjTadASCD"
      },
      "execution_count": 2,
      "outputs": []
    },
    {
      "cell_type": "markdown",
      "source": [
        "Moving content to data folder"
      ],
      "metadata": {
        "id": "zB1DFyXcEbNT"
      }
    },
    {
      "cell_type": "code",
      "source": [
        "!mv /content/*.md /content/data"
      ],
      "metadata": {
        "id": "R5njh5JUENkH"
      },
      "execution_count": 3,
      "outputs": []
    },
    {
      "cell_type": "markdown",
      "source": [
        "Install requirements"
      ],
      "metadata": {
        "id": "iUmm9_H2Ez-5"
      }
    },
    {
      "cell_type": "code",
      "source": [
        "!pip install transformers\n",
        "!pip install datasets\n",
        "!pip install torch\n",
        "!pip install gradio"
      ],
      "metadata": {
        "id": "AX0iY8IgE2hf"
      },
      "execution_count": null,
      "outputs": []
    },
    {
      "cell_type": "markdown",
      "source": [
        "Add script for training the data"
      ],
      "metadata": {
        "id": "OtTEs7nWEeOk"
      }
    },
    {
      "cell_type": "code",
      "source": [
        "import torch\n",
        "from transformers import GPT2LMHeadModel, GPT2Tokenizer\n",
        "from transformers import Trainer, TrainingArguments\n",
        "from datasets import load_dataset\n",
        "\n",
        "# Load pre-trained model and tokenizer\n",
        "model_name = \"distilgpt2\"\n",
        "tokenizer = GPT2Tokenizer.from_pretrained(model_name)\n",
        "tokenizer.pad_token = tokenizer.eos_token\n",
        "model = GPT2LMHeadModel.from_pretrained(model_name)\n",
        "\n",
        "# Load and tokenize the dataset from the \"data\" folder\n",
        "dataset = load_dataset(\"text\", data_files={\"train\": \"data/*.md\"})\n",
        "\n",
        "\n",
        "def tokenize_function(example):\n",
        "    input_tokens = tokenizer(example[\"text\"], return_tensors=\"pt\",\n",
        "                             padding=\"max_length\", truncation=True, max_length=128)\n",
        "    input_tokens[\"labels\"] = input_tokens[\"input_ids\"].detach().clone()\n",
        "    return input_tokens\n",
        "\n",
        "\n",
        "tokenized_dataset = dataset.map(tokenize_function, batched=True)\n",
        "train_dataset = tokenized_dataset[\"train\"]\n",
        "\n",
        "# Set up the training arguments\n",
        "training_args = TrainingArguments(\n",
        "    output_dir=\"./output\",\n",
        "    overwrite_output_dir=True,\n",
        "    num_train_epochs=5,\n",
        "    per_device_train_batch_size=8,\n",
        "    save_steps=100_0,\n",
        "    save_total_limit=2,\n",
        "    logging_steps=1000,\n",
        "    # resume training from the checkpoint saved at step 500\n",
        "    resume_from_checkpoint=\"./output/checkpoint-last\",\n",
        ")\n",
        "\n",
        "# Train the model\n",
        "trainer = Trainer(\n",
        "    model=model,\n",
        "    args=training_args,\n",
        "    train_dataset=train_dataset,\n",
        ")\n",
        "\n",
        "trainer.train()\n",
        "\n",
        "# Save the fine-tuned model\n",
        "trainer.save_model(\"./fine_tuned_model\")\n"
      ],
      "metadata": {
        "id": "VE2qWCgjEhfk"
      },
      "execution_count": null,
      "outputs": []
    },
    {
      "cell_type": "markdown",
      "source": [
        "Adding script for interacting with the fine-tuned-model"
      ],
      "metadata": {
        "id": "LkoLh9CzEmUi"
      }
    },
    {
      "cell_type": "code",
      "source": [
        "import torch\n",
        "from transformers import GPT2LMHeadModel, GPT2Tokenizer\n",
        "import gradio as gr\n",
        "\n",
        "def load_model(model_path: str, model_name: str = \"distilgpt2\"):\n",
        "    tokenizer = GPT2Tokenizer.from_pretrained(model_name)\n",
        "    model = GPT2LMHeadModel.from_pretrained(model_path)\n",
        "    return tokenizer, model\n",
        "\n",
        "def generate_text(input_text: str, max_length: int = 200):\n",
        "    input_ids = tokenizer.encode(input_text, return_tensors=\"pt\")\n",
        "    attention_mask = torch.ones_like(input_ids)\n",
        "    output = model.generate(\n",
        "        input_ids,\n",
        "        max_length=max_length,\n",
        "        min_length=50,  # Set a minimum length for the generated text\n",
        "        num_return_sequences=1,\n",
        "        attention_mask=attention_mask,\n",
        "        do_sample=True,  # Enable sampling to generate more diverse text\n",
        "        temperature=0.8,  # Adjust the temperature to control randomness (higher values = more random)\n",
        "    )\n",
        "    decoded_output = tokenizer.decode(output[0], skip_special_tokens=True)\n",
        "    return decoded_output\n",
        "\n",
        "# Load the fine-tuned model\n",
        "model_path = \"./fine_tuned_model\"\n",
        "tokenizer, model = load_model(model_path)\n",
        "\n",
        "# Create a Gradio interface\n",
        "iface = gr.Interface(\n",
        "    fn=generate_text,\n",
        "    inputs=[\n",
        "        gr.inputs.Textbox(lines=5, label=\"Input Text\"),\n",
        "        gr.inputs.Number(default=200, label=\"Maximum Length\")\n",
        "    ],\n",
        "    outputs=\"text\",\n",
        "    title=\"GPT-2 Text Generation\",\n",
        "    description=\"Enter a prompt and let GPT-2 generate text for you!\",\n",
        ")\n",
        "\n",
        "# Start the Gradio interface\n",
        "iface.launch()\n"
      ],
      "metadata": {
        "id": "3-5GuDB9Eqhc"
      },
      "execution_count": null,
      "outputs": []
    }
  ]
}